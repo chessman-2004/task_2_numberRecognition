{
  "nbformat": 4,
  "nbformat_minor": 0,
  "metadata": {
    "colab": {
      "provenance": [],
      "authorship_tag": "ABX9TyNR6rrIDw8HO31ZVdvNU1v2",
      "include_colab_link": true
    },
    "kernelspec": {
      "name": "python3",
      "display_name": "Python 3"
    },
    "language_info": {
      "name": "python"
    }
  },
  "cells": [
    {
      "cell_type": "markdown",
      "metadata": {
        "id": "view-in-github",
        "colab_type": "text"
      },
      "source": [
        "<a href=\"https://colab.research.google.com/github/chessman-2004/task_2_numberRecognition/blob/main/task_2_number_Recognition.ipynb\" target=\"_parent\"><img src=\"https://colab.research.google.com/assets/colab-badge.svg\" alt=\"Open In Colab\"/></a>"
      ]
    },
    {
      "cell_type": "code",
      "source": [
        "import pandas as pd\n",
        "import numpy as np\n",
        "import matplotlib.pyplot as plt\n",
        "from tensorflow import keras"
      ],
      "metadata": {
        "id": "tG6BaV2vublW"
      },
      "execution_count": 2,
      "outputs": []
    },
    {
      "cell_type": "code",
      "execution_count": 3,
      "metadata": {
        "colab": {
          "base_uri": "https://localhost:8080/"
        },
        "id": "IUS3d--9uTJp",
        "outputId": "5b0619f9-705d-4edd-ae99-6b6e722fefe6"
      },
      "outputs": [
        {
          "output_type": "stream",
          "name": "stdout",
          "text": [
            "Downloading data from https://storage.googleapis.com/tensorflow/tf-keras-datasets/mnist.npz\n",
            "11490434/11490434 [==============================] - 0s 0us/step\n"
          ]
        }
      ],
      "source": [
        "\n",
        "(X_train,y_train),(X_test,y_test)=keras.datasets.mnist.load_data()"
      ]
    },
    {
      "cell_type": "code",
      "source": [
        "len(X_train)"
      ],
      "metadata": {
        "colab": {
          "base_uri": "https://localhost:8080/"
        },
        "id": "1hvyIjpOxC-3",
        "outputId": "7c81b02b-3a60-4078-bd40-4c94d4ff25f9"
      },
      "execution_count": 5,
      "outputs": [
        {
          "output_type": "execute_result",
          "data": {
            "text/plain": [
              "60000"
            ]
          },
          "metadata": {},
          "execution_count": 5
        }
      ]
    },
    {
      "cell_type": "code",
      "source": [
        "X_train[0]"
      ],
      "metadata": {
        "colab": {
          "base_uri": "https://localhost:8080/"
        },
        "id": "eIXJw5lGxNKS",
        "outputId": "dad91303-6b1a-436d-e9ae-00fb73821fb3"
      },
      "execution_count": 6,
      "outputs": [
        {
          "output_type": "execute_result",
          "data": {
            "text/plain": [
              "array([[  0,   0,   0,   0,   0,   0,   0,   0,   0,   0,   0,   0,   0,\n",
              "          0,   0,   0,   0,   0,   0,   0,   0,   0,   0,   0,   0,   0,\n",
              "          0,   0],\n",
              "       [  0,   0,   0,   0,   0,   0,   0,   0,   0,   0,   0,   0,   0,\n",
              "          0,   0,   0,   0,   0,   0,   0,   0,   0,   0,   0,   0,   0,\n",
              "          0,   0],\n",
              "       [  0,   0,   0,   0,   0,   0,   0,   0,   0,   0,   0,   0,   0,\n",
              "          0,   0,   0,   0,   0,   0,   0,   0,   0,   0,   0,   0,   0,\n",
              "          0,   0],\n",
              "       [  0,   0,   0,   0,   0,   0,   0,   0,   0,   0,   0,   0,   0,\n",
              "          0,   0,   0,   0,   0,   0,   0,   0,   0,   0,   0,   0,   0,\n",
              "          0,   0],\n",
              "       [  0,   0,   0,   0,   0,   0,   0,   0,   0,   0,   0,   0,   0,\n",
              "          0,   0,   0,   0,   0,   0,   0,   0,   0,   0,   0,   0,   0,\n",
              "          0,   0],\n",
              "       [  0,   0,   0,   0,   0,   0,   0,   0,   0,   0,   0,   0,   3,\n",
              "         18,  18,  18, 126, 136, 175,  26, 166, 255, 247, 127,   0,   0,\n",
              "          0,   0],\n",
              "       [  0,   0,   0,   0,   0,   0,   0,   0,  30,  36,  94, 154, 170,\n",
              "        253, 253, 253, 253, 253, 225, 172, 253, 242, 195,  64,   0,   0,\n",
              "          0,   0],\n",
              "       [  0,   0,   0,   0,   0,   0,   0,  49, 238, 253, 253, 253, 253,\n",
              "        253, 253, 253, 253, 251,  93,  82,  82,  56,  39,   0,   0,   0,\n",
              "          0,   0],\n",
              "       [  0,   0,   0,   0,   0,   0,   0,  18, 219, 253, 253, 253, 253,\n",
              "        253, 198, 182, 247, 241,   0,   0,   0,   0,   0,   0,   0,   0,\n",
              "          0,   0],\n",
              "       [  0,   0,   0,   0,   0,   0,   0,   0,  80, 156, 107, 253, 253,\n",
              "        205,  11,   0,  43, 154,   0,   0,   0,   0,   0,   0,   0,   0,\n",
              "          0,   0],\n",
              "       [  0,   0,   0,   0,   0,   0,   0,   0,   0,  14,   1, 154, 253,\n",
              "         90,   0,   0,   0,   0,   0,   0,   0,   0,   0,   0,   0,   0,\n",
              "          0,   0],\n",
              "       [  0,   0,   0,   0,   0,   0,   0,   0,   0,   0,   0, 139, 253,\n",
              "        190,   2,   0,   0,   0,   0,   0,   0,   0,   0,   0,   0,   0,\n",
              "          0,   0],\n",
              "       [  0,   0,   0,   0,   0,   0,   0,   0,   0,   0,   0,  11, 190,\n",
              "        253,  70,   0,   0,   0,   0,   0,   0,   0,   0,   0,   0,   0,\n",
              "          0,   0],\n",
              "       [  0,   0,   0,   0,   0,   0,   0,   0,   0,   0,   0,   0,  35,\n",
              "        241, 225, 160, 108,   1,   0,   0,   0,   0,   0,   0,   0,   0,\n",
              "          0,   0],\n",
              "       [  0,   0,   0,   0,   0,   0,   0,   0,   0,   0,   0,   0,   0,\n",
              "         81, 240, 253, 253, 119,  25,   0,   0,   0,   0,   0,   0,   0,\n",
              "          0,   0],\n",
              "       [  0,   0,   0,   0,   0,   0,   0,   0,   0,   0,   0,   0,   0,\n",
              "          0,  45, 186, 253, 253, 150,  27,   0,   0,   0,   0,   0,   0,\n",
              "          0,   0],\n",
              "       [  0,   0,   0,   0,   0,   0,   0,   0,   0,   0,   0,   0,   0,\n",
              "          0,   0,  16,  93, 252, 253, 187,   0,   0,   0,   0,   0,   0,\n",
              "          0,   0],\n",
              "       [  0,   0,   0,   0,   0,   0,   0,   0,   0,   0,   0,   0,   0,\n",
              "          0,   0,   0,   0, 249, 253, 249,  64,   0,   0,   0,   0,   0,\n",
              "          0,   0],\n",
              "       [  0,   0,   0,   0,   0,   0,   0,   0,   0,   0,   0,   0,   0,\n",
              "          0,  46, 130, 183, 253, 253, 207,   2,   0,   0,   0,   0,   0,\n",
              "          0,   0],\n",
              "       [  0,   0,   0,   0,   0,   0,   0,   0,   0,   0,   0,   0,  39,\n",
              "        148, 229, 253, 253, 253, 250, 182,   0,   0,   0,   0,   0,   0,\n",
              "          0,   0],\n",
              "       [  0,   0,   0,   0,   0,   0,   0,   0,   0,   0,  24, 114, 221,\n",
              "        253, 253, 253, 253, 201,  78,   0,   0,   0,   0,   0,   0,   0,\n",
              "          0,   0],\n",
              "       [  0,   0,   0,   0,   0,   0,   0,   0,  23,  66, 213, 253, 253,\n",
              "        253, 253, 198,  81,   2,   0,   0,   0,   0,   0,   0,   0,   0,\n",
              "          0,   0],\n",
              "       [  0,   0,   0,   0,   0,   0,  18, 171, 219, 253, 253, 253, 253,\n",
              "        195,  80,   9,   0,   0,   0,   0,   0,   0,   0,   0,   0,   0,\n",
              "          0,   0],\n",
              "       [  0,   0,   0,   0,  55, 172, 226, 253, 253, 253, 253, 244, 133,\n",
              "         11,   0,   0,   0,   0,   0,   0,   0,   0,   0,   0,   0,   0,\n",
              "          0,   0],\n",
              "       [  0,   0,   0,   0, 136, 253, 253, 253, 212, 135, 132,  16,   0,\n",
              "          0,   0,   0,   0,   0,   0,   0,   0,   0,   0,   0,   0,   0,\n",
              "          0,   0],\n",
              "       [  0,   0,   0,   0,   0,   0,   0,   0,   0,   0,   0,   0,   0,\n",
              "          0,   0,   0,   0,   0,   0,   0,   0,   0,   0,   0,   0,   0,\n",
              "          0,   0],\n",
              "       [  0,   0,   0,   0,   0,   0,   0,   0,   0,   0,   0,   0,   0,\n",
              "          0,   0,   0,   0,   0,   0,   0,   0,   0,   0,   0,   0,   0,\n",
              "          0,   0],\n",
              "       [  0,   0,   0,   0,   0,   0,   0,   0,   0,   0,   0,   0,   0,\n",
              "          0,   0,   0,   0,   0,   0,   0,   0,   0,   0,   0,   0,   0,\n",
              "          0,   0]], dtype=uint8)"
            ]
          },
          "metadata": {},
          "execution_count": 6
        }
      ]
    },
    {
      "cell_type": "code",
      "source": [
        "plt.matshow(X_train[0],cmap = 'binary')"
      ],
      "metadata": {
        "colab": {
          "base_uri": "https://localhost:8080/",
          "height": 454
        },
        "id": "GqZJTS0RxbyU",
        "outputId": "238c6de4-0799-4815-ad99-20614bc5695e"
      },
      "execution_count": 7,
      "outputs": [
        {
          "output_type": "execute_result",
          "data": {
            "text/plain": [
              "<matplotlib.image.AxesImage at 0x7db560592a70>"
            ]
          },
          "metadata": {},
          "execution_count": 7
        },
        {
          "output_type": "display_data",
          "data": {
            "text/plain": [
              "<Figure size 480x480 with 1 Axes>"
            ],
            "image/png": "[encoded data removed]"
          },
          "metadata": {}
        }
      ]
    },
    {
      "cell_type": "code",
      "source": [
        "y_train[0]"
      ],
      "metadata": {
        "colab": {
          "base_uri": "https://localhost:8080/"
        },
        "id": "8QGaj1nWxx1K",
        "outputId": "e20ac02e-ee40-4e40-f62f-9de8d3158e89"
      },
      "execution_count": 8,
      "outputs": [
        {
          "output_type": "execute_result",
          "data": {
            "text/plain": [
              "5"
            ]
          },
          "metadata": {},
          "execution_count": 8
        }
      ]
    },
    {
      "cell_type": "code",
      "source": [
        "X_train.shape"
      ],
      "metadata": {
        "colab": {
          "base_uri": "https://localhost:8080/"
        },
        "id": "jeBaVGOWzTIu",
        "outputId": "c8676745-089b-4b9d-cb53-20793cd1c8c6"
      },
      "execution_count": 10,
      "outputs": [
        {
          "output_type": "execute_result",
          "data": {
            "text/plain": [
              "(60000, 28, 28)"
            ]
          },
          "metadata": {},
          "execution_count": 10
        }
      ]
    },
    {
      "cell_type": "markdown",
      "source": [
        "#### we need to first normalize the given data by limiting their values in the range of [0,1] to use the sigmoid function to the best."
      ],
      "metadata": {
        "id": "9Ez7kIhTzaTT"
      }
    },
    {
      "cell_type": "code",
      "source": [
        "X_train=X_train/255\n",
        "X_test=X_test/255"
      ],
      "metadata": {
        "id": "15I4uqWOzU4j"
      },
      "execution_count": 11,
      "outputs": []
    },
    {
      "cell_type": "markdown",
      "source": [
        "#### to be able to feed the given array to the neural network that we are going to use, we first need to flatten the array of elements."
      ],
      "metadata": {
        "id": "jFrnmKIS0INr"
      }
    },
    {
      "cell_type": "code",
      "source": [
        "X_train_flattend = X_train.reshape(len(X_train),28*28)\n",
        "X_test_flattend=X_test.reshape(len(X_test),28*28)"
      ],
      "metadata": {
        "id": "JjTpcEXT0V3H"
      },
      "execution_count": 12,
      "outputs": []
    },
    {
      "cell_type": "code",
      "source": [
        "X_train_flattend.shape"
      ],
      "metadata": {
        "colab": {
          "base_uri": "https://localhost:8080/"
        },
        "id": "-u0BMYYf0k4x",
        "outputId": "4fbd8ec7-6935-4a77-b15d-f22956413442"
      },
      "execution_count": 13,
      "outputs": [
        {
          "output_type": "execute_result",
          "data": {
            "text/plain": [
              "(60000, 784)"
            ]
          },
          "metadata": {},
          "execution_count": 13
        }
      ]
    },
    {
      "cell_type": "code",
      "source": [
        "X_train_flattend"
      ],
      "metadata": {
        "colab": {
          "base_uri": "https://localhost:8080/"
        },
        "id": "LT7QkJqq0qFY",
        "outputId": "81a22f12-1847-49bc-80d3-48a626fac16b"
      },
      "execution_count": 14,
      "outputs": [
        {
          "output_type": "execute_result",
          "data": {
            "text/plain": [
              "array([[0., 0., 0., ..., 0., 0., 0.],\n",
              "       [0., 0., 0., ..., 0., 0., 0.],\n",
              "       [0., 0., 0., ..., 0., 0., 0.],\n",
              "       ...,\n",
              "       [0., 0., 0., ..., 0., 0., 0.],\n",
              "       [0., 0., 0., ..., 0., 0., 0.],\n",
              "       [0., 0., 0., ..., 0., 0., 0.]])"
            ]
          },
          "metadata": {},
          "execution_count": 14
        }
      ]
    },
    {
      "cell_type": "markdown",
      "source": [
        "here we considered a sequential set of neurons, where all the 784 elements are considered in the first layer.\n",
        "\n",
        "![project.jpeg](data:image/jpeg;base64,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)\n",
        "\n",
        "We'll have two hidden layers , where we'll further deduce the individual features of the image and identify it's features individually.\n",
        "We'll train our model using a Simple Sequential Neural Network , where we use sigmoid function to activate a Dense layer of neurons and map them.\n",
        "\n",
        "![sigmoid.png](data:image/png;base64,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)\n",
        "\n",
        "and the use of sigmoid function is as shown below :\n",
        "\n",
        "![combined.png](data:image/png;base64,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)"
      ],
      "metadata": {
        "id": "Lj-drVO42b2n"
      }
    },
    {
      "cell_type": "code",
      "source": [
        "model = keras.Sequential([\n",
        "    keras.layers.Dense(10,input_shape=(784,),activation='sigmoid')\n",
        "])\n",
        "model.compile(optimizer='adam',loss='sparse_categorical_crossentropy',metrics=['accuracy'])\n",
        "model.fit(X_train_flattend,y_train,epochs=5)"
      ],
      "metadata": {
        "colab": {
          "base_uri": "https://localhost:8080/"
        },
        "id": "wYAsfXWa31FH",
        "outputId": "42af44bb-4628-479d-be1b-b4038dceaf60"
      },
      "execution_count": 15,
      "outputs": [
        {
          "output_type": "stream",
          "name": "stdout",
          "text": [
            "Epoch 1/5\n",
            "1875/1875 [==============================] - 3s 1ms/step - loss: 0.4661 - accuracy: 0.8779\n",
            "Epoch 2/5\n",
            "1875/1875 [==============================] - 2s 1ms/step - loss: 0.3038 - accuracy: 0.9153\n",
            "Epoch 3/5\n",
            "1875/1875 [==============================] - 2s 1ms/step - loss: 0.2836 - accuracy: 0.9204\n",
            "Epoch 4/5\n",
            "1875/1875 [==============================] - 3s 1ms/step - loss: 0.2731 - accuracy: 0.9238\n",
            "Epoch 5/5\n",
            "1875/1875 [==============================] - 2s 1ms/step - loss: 0.2664 - accuracy: 0.9253\n"
          ]
        },
        {
          "output_type": "execute_result",
          "data": {
            "text/plain": [
              "<keras.src.callbacks.History at 0x7db560288910>"
            ]
          },
          "metadata": {},
          "execution_count": 15
        }
      ]
    },
    {
      "cell_type": "markdown",
      "source": [
        "We'll evaluate our model using in-built evaluate function.The more the score,the more accurate the function is."
      ],
      "metadata": {
        "id": "SHSC1RBu4Heq"
      }
    },
    {
      "cell_type": "code",
      "source": [
        "model.evaluate(X_test_flattend,y_test)\n",
        ""
      ],
      "metadata": {
        "colab": {
          "base_uri": "https://localhost:8080/"
        },
        "id": "rHdVyK4k4JOA",
        "outputId": "54139490-2f17-4f7c-bd79-1f187125b7a3"
      },
      "execution_count": 16,
      "outputs": [
        {
          "output_type": "stream",
          "name": "stdout",
          "text": [
            "313/313 [==============================] - 0s 1ms/step - loss: 0.2647 - accuracy: 0.9273\n"
          ]
        },
        {
          "output_type": "execute_result",
          "data": {
            "text/plain": [
              "[0.2646894156932831, 0.927299976348877]"
            ]
          },
          "metadata": {},
          "execution_count": 16
        }
      ]
    },
    {
      "cell_type": "code",
      "source": [
        "model.predict(X_test_flattend)"
      ],
      "metadata": {
        "colab": {
          "base_uri": "https://localhost:8080/"
        },
        "id": "VcjLSqnX4QbA",
        "outputId": "5efce448-7051-437c-f2e3-69932b99e844"
      },
      "execution_count": 17,
      "outputs": [
        {
          "output_type": "stream",
          "name": "stdout",
          "text": [
            "313/313 [==============================] - 0s 921us/step\n"
          ]
        },
        {
          "output_type": "execute_result",
          "data": {
            "text/plain": [
              "array([[2.8532617e-02, 2.8831454e-07, 6.6808201e-02, ..., 9.9975872e-01,\n",
              "        9.0769850e-02, 6.5748262e-01],\n",
              "       [5.2839774e-01, 5.0585098e-03, 9.9965322e-01, ..., 1.2332812e-12,\n",
              "        2.0712265e-01, 2.1705691e-09],\n",
              "       [4.2437480e-04, 9.9294722e-01, 6.9324774e-01, ..., 1.2209911e-01,\n",
              "        3.8589716e-01, 3.7099835e-02],\n",
              "       ...,\n",
              "       [4.7603976e-06, 2.7039141e-06, 1.5214579e-03, ..., 1.7434403e-01,\n",
              "        5.5252200e-01, 7.3642629e-01],\n",
              "       [1.2567586e-04, 1.7118867e-04, 2.0967689e-04, ..., 4.5038927e-05,\n",
              "        6.7690271e-01, 1.3006185e-04],\n",
              "       [7.5084381e-03, 1.7410823e-10, 1.9149573e-01, ..., 1.8064606e-08,\n",
              "        2.9212135e-04, 9.3742341e-07]], dtype=float32)"
            ]
          },
          "metadata": {},
          "execution_count": 17
        }
      ]
    },
    {
      "cell_type": "code",
      "source": [
        "y_predicted=model.predict(X_test_flattend)\n",
        "print(y_predicted[0])"
      ],
      "metadata": {
        "colab": {
          "base_uri": "https://localhost:8080/"
        },
        "id": "9d1vt3PG4a4-",
        "outputId": "345ee07d-db0e-429f-9299-69dfe5028361"
      },
      "execution_count": 18,
      "outputs": [
        {
          "output_type": "stream",
          "name": "stdout",
          "text": [
            "313/313 [==============================] - 0s 874us/step\n",
            "[2.85326168e-02 2.88314538e-07 6.68082014e-02 9.47657526e-01\n",
            " 2.67083943e-03 1.03993386e-01 3.47188848e-06 9.99758720e-01\n",
            " 9.07698497e-02 6.57482624e-01]\n"
          ]
        }
      ]
    },
    {
      "cell_type": "markdown",
      "source": [
        "Argmax() function :\n",
        "np.argmax returns the maximum element among the elements present in an array.It is used to predict our final values.\n",
        "Syntax : np.argmax(element)\n",
        "\n",
        "![argmax.jpeg](data:image/jpeg;base64,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)"
      ],
      "metadata": {
        "id": "KPf-TEeq4rx5"
      }
    },
    {
      "cell_type": "code",
      "source": [
        "np.argmax(y_predicted[0])"
      ],
      "metadata": {
        "colab": {
          "base_uri": "https://localhost:8080/"
        },
        "id": "9G0CZRUO5XG0",
        "outputId": "3aed6678-e678-4f2d-9c37-091f072c33a7"
      },
      "execution_count": 19,
      "outputs": [
        {
          "output_type": "execute_result",
          "data": {
            "text/plain": [
              "7"
            ]
          },
          "metadata": {},
          "execution_count": 19
        }
      ]
    },
    {
      "cell_type": "code",
      "source": [
        "np.argmax(y_predicted[1])"
      ],
      "metadata": {
        "colab": {
          "base_uri": "https://localhost:8080/"
        },
        "id": "W5rxe6J05dWQ",
        "outputId": "52b7e39a-e49a-4785-ebe5-153b824aef02"
      },
      "execution_count": 20,
      "outputs": [
        {
          "output_type": "execute_result",
          "data": {
            "text/plain": [
              "2"
            ]
          },
          "metadata": {},
          "execution_count": 20
        }
      ]
    },
    {
      "cell_type": "markdown",
      "source": [
        "As we can see, our precdiction is true."
      ],
      "metadata": {
        "id": "7dIWOFqi5r_D"
      }
    }
  ]
}